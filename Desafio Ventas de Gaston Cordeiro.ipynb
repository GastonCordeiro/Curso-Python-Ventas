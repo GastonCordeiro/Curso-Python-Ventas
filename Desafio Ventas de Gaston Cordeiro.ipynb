{
 "cells": [
  {
   "cell_type": "code",
   "execution_count": 16,
   "metadata": {},
   "outputs": [],
   "source": [
    "ventas = {\n",
    "\"Enero\": 15000,\n",
    "\"Febrero\": 22000,\n",
    "\"Marzo\": 12000,\n",
    "\"Abril\": 17000,\n",
    "\"Mayo\": 81000,\n",
    "\"Junio\": 13000,\n",
    "\"Julio\": 21000,\n",
    "\"Agosto\": 41200,\n",
    "\"Septiembre\": 25000,\n",
    "\"Octubre\": 21500,\n",
    "\"Noviembre\": 91000,\n",
    "\"Diciembre\": 21000,\n",
    "}"
   ]
  },
  {
   "cell_type": "code",
   "execution_count": 17,
   "metadata": {},
   "outputs": [
    {
     "name": "stdout",
     "output_type": "stream",
     "text": [
      "81000\n",
      "91000\n"
     ]
    }
   ],
   "source": [
    "#ventas ejercicio 1 y 2 imprimir k o v segun corresponda\n",
    "for k,v in ventas.items():\n",
    "    \n",
    "    if v > 45000:\n",
    "        \n",
    "        print(v)"
   ]
  },
  {
   "cell_type": "code",
   "execution_count": 18,
   "metadata": {},
   "outputs": [
    {
     "data": {
      "text/plain": [
       "{'Mayo': 81000, 'Noviembre': 91000}"
      ]
     },
     "execution_count": 18,
     "metadata": {},
     "output_type": "execute_result"
    }
   ],
   "source": [
    "#ejercicio 3\n",
    "dict(filter(lambda x: x[1] > 45000, ventas.items()))"
   ]
  },
  {
   "cell_type": "code",
   "execution_count": 19,
   "metadata": {},
   "outputs": [],
   "source": [
    "def filter(dicctionario, valor):\n",
    "    ventas_mayores= {}\n",
    "    for k,v in ventas.items():\n",
    "    \n",
    "        if v > 45000:\n",
    "        \n",
    "            ventas_mayores[k]=v\n",
    "                \n",
    "    return ventas_mayores              "
   ]
  },
  {
   "cell_type": "code",
   "execution_count": 20,
   "metadata": {},
   "outputs": [
    {
     "data": {
      "text/plain": [
       "{'Mayo': 81000, 'Noviembre': 91000}"
      ]
     },
     "execution_count": 20,
     "metadata": {},
     "output_type": "execute_result"
    }
   ],
   "source": [
    "filter(2,2)"
   ]
  },
  {
   "cell_type": "code",
   "execution_count": 28,
   "metadata": {},
   "outputs": [],
   "source": [
    "#ejercicio 4\n",
    "argv = [None, 15000, 31000, 27000]"
   ]
  },
  {
   "cell_type": "code",
   "execution_count": 36,
   "metadata": {},
   "outputs": [
    {
     "name": "stdout",
     "output_type": "stream",
     "text": [
      "Enero\n",
      "No encontrado\n",
      "No encontrado\n"
     ]
    }
   ],
   "source": [
    "for i in argv[1:]:\n",
    "    b = True\n",
    "    \n",
    "    for k, v in ventas.items():\n",
    "            \n",
    "        if i == v:\n",
    "            print(k)\n",
    "            b = False\n",
    "            break\n",
    "    if b:\n",
    "        print(\"No encontrado\")\n",
    "            "
   ]
  },
  {
   "cell_type": "code",
   "execution_count": 37,
   "metadata": {},
   "outputs": [
    {
     "name": "stdout",
     "output_type": "stream",
     "text": [
      "{'Q1': [15000, 22000, 12000], 'Q2': [17000, 81000, 13000], 'Q3': [21000, 41200, 25000], 'Q4': [21500, 91000, 21000]}\n"
     ]
    }
   ],
   "source": [
    "quarters = {}\n",
    "for i in range(0, len(ventas.values()), int(len(ventas.values())/4)):\n",
    "    quarters[\"Q{}\".format(int(i / 3 + 1))] = list(ventas.values())[i:i+3]\n",
    "print(quarters)"
   ]
  },
  {
   "cell_type": "code",
   "execution_count": 23,
   "metadata": {},
   "outputs": [],
   "source": [
    "#ejercicio 5\n",
    "valores_ventas = list(ventas.values())"
   ]
  },
  {
   "cell_type": "code",
   "execution_count": 24,
   "metadata": {},
   "outputs": [
    {
     "data": {
      "text/plain": [
       "[15000,\n",
       " 22000,\n",
       " 12000,\n",
       " 17000,\n",
       " 81000,\n",
       " 13000,\n",
       " 21000,\n",
       " 41200,\n",
       " 25000,\n",
       " 21500,\n",
       " 91000,\n",
       " 21000]"
      ]
     },
     "execution_count": 24,
     "metadata": {},
     "output_type": "execute_result"
    }
   ],
   "source": [
    "valores_ventas\n"
   ]
  },
  {
   "cell_type": "code",
   "execution_count": 25,
   "metadata": {},
   "outputs": [
    {
     "data": {
      "text/plain": [
       "[12000,\n",
       " 13000,\n",
       " 15000,\n",
       " 17000,\n",
       " 21000,\n",
       " 21000,\n",
       " 21500,\n",
       " 22000,\n",
       " 25000,\n",
       " 41200,\n",
       " 81000,\n",
       " 91000]"
      ]
     },
     "execution_count": 25,
     "metadata": {},
     "output_type": "execute_result"
    }
   ],
   "source": [
    "valores_ventas.sort()\n",
    "valores_ventas\n"
   ]
  },
  {
   "cell_type": "code",
   "execution_count": 26,
   "metadata": {},
   "outputs": [],
   "source": [
    "from itertools import groupby\n",
    "repeticiones_ventas = {k:len(list(v)) for k, v in groupby(valores_ventas)}"
   ]
  },
  {
   "cell_type": "code",
   "execution_count": 27,
   "metadata": {},
   "outputs": [
    {
     "data": {
      "text/plain": [
       "{12000: 1,\n",
       " 13000: 1,\n",
       " 15000: 1,\n",
       " 17000: 1,\n",
       " 21000: 2,\n",
       " 21500: 1,\n",
       " 22000: 1,\n",
       " 25000: 1,\n",
       " 41200: 1,\n",
       " 81000: 1,\n",
       " 91000: 1}"
      ]
     },
     "execution_count": 27,
     "metadata": {},
     "output_type": "execute_result"
    }
   ],
   "source": [
    "repeticiones_ventas"
   ]
  },
  {
   "cell_type": "code",
   "execution_count": null,
   "metadata": {},
   "outputs": [],
   "source": []
  },
  {
   "cell_type": "code",
   "execution_count": null,
   "metadata": {},
   "outputs": [],
   "source": []
  }
 ],
 "metadata": {
  "kernelspec": {
   "display_name": "Python 3",
   "language": "python",
   "name": "python3"
  },
  "language_info": {
   "codemirror_mode": {
    "name": "ipython",
    "version": 3
   },
   "file_extension": ".py",
   "mimetype": "text/x-python",
   "name": "python",
   "nbconvert_exporter": "python",
   "pygments_lexer": "ipython3",
   "version": "3.7.3"
  }
 },
 "nbformat": 4,
 "nbformat_minor": 2
}
